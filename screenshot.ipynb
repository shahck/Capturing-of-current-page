{
 "cells": [
  {
   "cell_type": "code",
   "execution_count": 1,
   "id": "c9567556",
   "metadata": {
    "collapsed": true
   },
   "outputs": [
    {
     "name": "stdout",
     "output_type": "stream",
     "text": [
      "Requirement already satisfied: requests in c:\\users\\shahe\\anaconda3\\lib\\site-packages (2.28.1)\n",
      "Requirement already satisfied: idna<4,>=2.5 in c:\\users\\shahe\\anaconda3\\lib\\site-packages (from requests) (3.3)\n",
      "Requirement already satisfied: certifi>=2017.4.17 in c:\\users\\shahe\\anaconda3\\lib\\site-packages (from requests) (2022.9.14)\n",
      "Requirement already satisfied: urllib3<1.27,>=1.21.1 in c:\\users\\shahe\\anaconda3\\lib\\site-packages (from requests) (1.26.11)\n",
      "Requirement already satisfied: charset-normalizer<3,>=2 in c:\\users\\shahe\\anaconda3\\lib\\site-packages (from requests) (2.0.4)\n",
      "Note: you may need to restart the kernel to use updated packages.\n"
     ]
    }
   ],
   "source": [
    "pip install requests"
   ]
  },
  {
   "cell_type": "code",
   "execution_count": 2,
   "id": "5c46f4a8",
   "metadata": {
    "collapsed": true
   },
   "outputs": [
    {
     "name": "stdout",
     "output_type": "stream",
     "text": [
      "Requirement already satisfied: pyautogui in c:\\users\\shahe\\anaconda3\\lib\\site-packages (0.9.54)\n",
      "Requirement already satisfied: pytweening>=1.0.4 in c:\\users\\shahe\\anaconda3\\lib\\site-packages (from pyautogui) (1.0.7)\n",
      "Requirement already satisfied: pyscreeze>=0.1.21 in c:\\users\\shahe\\anaconda3\\lib\\site-packages (from pyautogui) (0.1.30)\n",
      "Requirement already satisfied: mouseinfo in c:\\users\\shahe\\anaconda3\\lib\\site-packages (from pyautogui) (0.1.3)\n",
      "Requirement already satisfied: pygetwindow>=0.0.5 in c:\\users\\shahe\\anaconda3\\lib\\site-packages (from pyautogui) (0.0.9)\n",
      "Requirement already satisfied: pymsgbox in c:\\users\\shahe\\anaconda3\\lib\\site-packages (from pyautogui) (1.0.9)\n",
      "Requirement already satisfied: pyrect in c:\\users\\shahe\\anaconda3\\lib\\site-packages (from pygetwindow>=0.0.5->pyautogui) (0.2.0)\n",
      "Requirement already satisfied: Pillow>=9.2.0 in c:\\users\\shahe\\anaconda3\\lib\\site-packages (from pyscreeze>=0.1.21->pyautogui) (9.2.0)\n",
      "Requirement already satisfied: pyperclip in c:\\users\\shahe\\anaconda3\\lib\\site-packages (from mouseinfo->pyautogui) (1.8.2)\n",
      "Note: you may need to restart the kernel to use updated packages.\n"
     ]
    }
   ],
   "source": [
    "pip install pyautogui "
   ]
  },
  {
   "cell_type": "code",
   "execution_count": 5,
   "id": "f99d4ab1",
   "metadata": {},
   "outputs": [
    {
     "name": "stdout",
     "output_type": "stream",
     "text": [
      "{'status': 'success', 'message': 'File uploaded successfully', 'data': {'file_path': 'https://trogon.info/interview/python/uploads/1234567890/sxuQtJ2Kco.png', 'remarks': 'Your Application Name', 'phone': '1234567890', 'timestamp': '30-11-2023 11:14 PM'}}\n",
      "{'status': 'success', 'message': 'File uploaded successfully', 'data': {'file_path': 'https://trogon.info/interview/python/uploads/1234567890/cfHBWlJ9FA.png', 'remarks': 'Your Application Name', 'phone': '1234567890', 'timestamp': '30-11-2023 11:15 PM'}}\n",
      "{'status': 'success', 'message': 'File uploaded successfully', 'data': {'file_path': 'https://trogon.info/interview/python/uploads/1234567890/08Mp0yh2mT.png', 'remarks': 'Your Application Name', 'phone': '1234567890', 'timestamp': '30-11-2023 11:17 PM'}}\n"
     ]
    }
   ],
   "source": [
    "import os\n",
    "import sys\n",
    "import pyautogui\n",
    "import requests\n",
    "import tkinter as tk\n",
    "from tkinter import messagebox\n",
    "from datetime import datetime\n",
    "\n",
    "# Function to take a screenshot\n",
    "def take_screenshot():\n",
    "    try:\n",
    "        screenshot = pyautogui.screenshot()\n",
    "        screenshot_path = \"screenshot.png\"\n",
    "        screenshot.save(screenshot_path)\n",
    "        return screenshot_path\n",
    "    except Exception as e:\n",
    "        print(f\"Error taking screenshot: {e}\")\n",
    "        return None\n",
    "\n",
    "    \n",
    "    \n",
    "#To send the API request\n",
    "def send_api_request(image_path, remarks, phone):\n",
    "    api_url = \"https://trogon.info/interview/python/index.php\"\n",
    "    files = {'image': open(image_path, 'rb')}\n",
    "    data = {'remarks': remarks, 'phone': phone}\n",
    "\n",
    "    try:\n",
    "        response = requests.post(api_url, files=files, data=data)\n",
    "        return response.json()\n",
    "    except requests.RequestException as e:\n",
    "        print(f\"Error sending API request: {e}\")\n",
    "        return None\n",
    "\n",
    "    \n",
    "#To handle the API response\n",
    "def handle_api_response(response):\n",
    "    if isinstance(response, dict):\n",
    "        print(response)\n",
    "        if response.get('status') == 'success':\n",
    "            details = response.get('data')\n",
    "            message = f\"File uploaded successfully!\\nFile Path: {details.get('file_path')}\\nRemarks: {details.get('remarks')}\\nPhone: {details.get('phone')}\\nTimestamp: {details.get('timestamp')}\"\n",
    "            messagebox.showinfo(\"Success\", message)\n",
    "        else:\n",
    "            messagebox.showerror(\"Error\", \"Failed to upload file to the server.\")\n",
    "    elif hasattr(response, 'status_code'):\n",
    "\n",
    "        print(response.status_code)\n",
    "        if response and response.status_code == 200:\n",
    "            details = response.get('data')\n",
    "            message = f\"File uploaded successfully!\\nFile Path: {details.get('file_path')}\\nRemarks: {details.get('remarks')}\\nPhone: {details.get('phone')}\\nTimestamp: {details.get('timestamp')}\"\n",
    "            messagebox.showinfo(\"Success\", message)\n",
    "        else:\n",
    "            messagebox.showerror(\"Error\", f\"Failed to upload file to the server. Status Code: {response.status_code}\")\n",
    "    else:\n",
    "        messagebox.showerror(\"Error\", \"Unexpected response format.\")\n",
    "\n",
    "        \n",
    "#To take a screenshot and send the API request\n",
    "def capture_and_upload():\n",
    "    screenshot_path = take_screenshot()\n",
    "    if screenshot_path:\n",
    "        remarks = \"Your Application Name\"  \n",
    "        phone = \"1234567890\"  \n",
    "\n",
    "        response = send_api_request(screenshot_path, remarks, phone)\n",
    "        handle_api_response(response)\n",
    "    else:\n",
    "        messagebox.showerror(\"Error\", \"Failed to capture screenshot.\")\n",
    "\n",
    "# GUI \n",
    "app = tk.Tk()\n",
    "app.title(\"Screenshot Uploader\")\n",
    "\n",
    "capture_button = tk.Button(app, text=\"Capture & Upload\", command=capture_and_upload)\n",
    "capture_button.pack(pady=10)\n",
    "\n",
    "# Run the application\n",
    "app.mainloop()\n"
   ]
  },
  {
   "cell_type": "code",
   "execution_count": null,
   "id": "afc3696a",
   "metadata": {},
   "outputs": [],
   "source": []
  }
 ],
 "metadata": {
  "kernelspec": {
   "display_name": "Python 3 (ipykernel)",
   "language": "python",
   "name": "python3"
  },
  "language_info": {
   "codemirror_mode": {
    "name": "ipython",
    "version": 3
   },
   "file_extension": ".py",
   "mimetype": "text/x-python",
   "name": "python",
   "nbconvert_exporter": "python",
   "pygments_lexer": "ipython3",
   "version": "3.9.13"
  }
 },
 "nbformat": 4,
 "nbformat_minor": 5
}
